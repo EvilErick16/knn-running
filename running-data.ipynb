{
 "cells": [
  {
   "cell_type": "code",
   "execution_count": 5,
   "metadata": {},
   "outputs": [],
   "source": [
    "import pandas as pd\n"
   ]
  },
  {
   "cell_type": "code",
   "execution_count": 3,
   "metadata": {},
   "outputs": [
    {
     "name": "stdout",
     "output_type": "stream",
     "text": [
      "      MovingTime      Distance  MaxSpeed  ElevationGain  Class\n",
      "0           3614  14587.400390     6.000     186.526993      0\n",
      "1           4436  17830.800780     5.200     139.160004      1\n",
      "2            794   3055.000000     5.800       0.000000      0\n",
      "3            925   5454.500000     6.900       0.000000      2\n",
      "4           1009   3309.699951     4.200       0.000000      0\n",
      "...          ...           ...       ...            ...    ...\n",
      "1622        4012  16112.500000     5.514      30.949589      2\n",
      "1623        3482  12894.700200     4.441      79.252899      0\n",
      "1624        1811   6448.700195     4.376      20.728758      0\n",
      "1625        3325  12901.000000     4.712      92.119621      0\n",
      "1626        1746   6449.700195     4.040      53.639465      0\n",
      "\n",
      "[1627 rows x 5 columns]\n"
     ]
    }
   ],
   "source": [
    "df = pd.read_csv(\"activities.csv\")\n",
    "print(df[['MovingTime', 'Distance', 'MaxSpeed', 'ElevationGain', 'Class']])"
   ]
  }
 ],
 "metadata": {
  "kernelspec": {
   "display_name": "Python 3",
   "language": "python",
   "name": "python3"
  },
  "language_info": {
   "codemirror_mode": {
    "name": "ipython",
    "version": 3
   },
   "file_extension": ".py",
   "mimetype": "text/x-python",
   "name": "python",
   "nbconvert_exporter": "python",
   "pygments_lexer": "ipython3",
   "version": "3.7.6"
  }
 },
 "nbformat": 4,
 "nbformat_minor": 4
}
