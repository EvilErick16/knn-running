{
 "cells": [
  {
   "cell_type": "code",
   "execution_count": 1,
   "metadata": {},
   "outputs": [],
   "source": [
    "import pandas as pd"
   ]
  },
  {
   "cell_type": "code",
   "execution_count": 3,
   "metadata": {},
   "outputs": [
    {
     "name": "stdout",
     "output_type": "stream",
     "text": [
      "                  Activity Date Distance (km)  Elapsed Time (sec)  \\\n",
      "0      Feb 22, 2016, 2:48:17 PM         14.58              3763.0   \n",
      "1      Feb 20, 2016, 3:08:09 PM         17.83              4522.0   \n",
      "2      Feb 23, 2016, 3:19:50 PM          3.05               794.0   \n",
      "3      Feb 23, 2016, 4:00:41 PM          5.45              1572.0   \n",
      "4      Feb 23, 2016, 4:33:47 PM          3.31              1047.0   \n",
      "...                         ...           ...                 ...   \n",
      "1769   Apr 17, 2020, 7:12:56 PM         12.89              3803.0   \n",
      "1770   Apr 19, 2020, 1:02:09 AM          6.44              1896.0   \n",
      "1771  Apr 19, 2020, 10:45:43 PM         46.72              7275.0   \n",
      "1772   Apr 20, 2020, 9:45:38 PM          12.9              4128.0   \n",
      "1773   Apr 24, 2020, 4:34:18 PM          6.45              1952.0   \n",
      "\n",
      "      Moving Time (sec)   Distance(m)  Max Speed (m/s)  Average Speed (m/s)  \\\n",
      "0                  3614  14587.400390            6.000                  NaN   \n",
      "1                  4436  17830.800780            5.200                  NaN   \n",
      "2                   794   3055.000000            5.800                  NaN   \n",
      "3                   925   5454.500000            6.900                  NaN   \n",
      "4                  1009   3309.699951            4.200                  NaN   \n",
      "...                 ...           ...              ...                  ...   \n",
      "1769               3482  12894.700200            4.441                3.704   \n",
      "1770               1811   6448.700195            4.376                3.561   \n",
      "1771               6588  46722.500000           11.822                7.096   \n",
      "1772               3325  12901.000000            4.712                3.879   \n",
      "1773               1746   6449.700195            4.040                3.694   \n",
      "\n",
      "      Elevation Gain (m)  \n",
      "0             186.526993  \n",
      "1             139.160004  \n",
      "2               0.000000  \n",
      "3               0.000000  \n",
      "4               0.000000  \n",
      "...                  ...  \n",
      "1769           79.252899  \n",
      "1770           20.728758  \n",
      "1771          163.804993  \n",
      "1772           92.119621  \n",
      "1773           53.639465  \n",
      "\n",
      "[1774 rows x 8 columns]\n"
     ]
    }
   ],
   "source": [
    "df = pd.read_csv(\"activities.csv\")\n",
    "print(df)"
   ]
  }
 ],
 "metadata": {
  "kernelspec": {
   "display_name": "Python 3",
   "language": "python",
   "name": "python3"
  },
  "language_info": {
   "codemirror_mode": {
    "name": "ipython",
    "version": 3
   },
   "file_extension": ".py",
   "mimetype": "text/x-python",
   "name": "python",
   "nbconvert_exporter": "python",
   "pygments_lexer": "ipython3",
   "version": "3.7.6"
  }
 },
 "nbformat": 4,
 "nbformat_minor": 4
}
